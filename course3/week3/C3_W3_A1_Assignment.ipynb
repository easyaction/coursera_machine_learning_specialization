{
 "cells": [
  {
   "cell_type": "markdown",
   "metadata": {},
   "source": [
    "# Deep Q-Learning - Lunar Lander\n",
    "\n",
    "In this assignment, you will train an agent to land a lunar lander safely on a landing pad on the surface of the moon.\n",
    "\n",
    "\n",
    "# Outline\n",
    "- [ 1 - Import Packages <img align=\"Right\" src=\"./images/lunar_lander.gif\" width = 60% >](#1)\n",
    "- [ 2 - Hyperparameters](#2)\n",
    "- [ 3 - The Lunar Lander Environment](#3)\n",
    "  - [ 3.1 Action Space](#3.1)\n",
    "  - [ 3.2 Observation Space](#3.2)\n",
    "  - [ 3.3 Rewards](#3.3)\n",
    "  - [ 3.4 Episode Termination](#3.4)\n",
    "- [ 4 - Load the Environment](#4)\n",
    "- [ 5 - Interacting with the Gym Environment](#5)\n",
    "    - [ 5.1 Exploring the Environment's Dynamics](#5.1)\n",
    "- [ 6 - Deep Q-Learning](#6)\n",
    "  - [ 6.1 Target Network](#6.1)\n",
    "    - [ Exercise 1](#ex01)\n",
    "  - [ 6.2 Experience Replay](#6.2)\n",
    "- [ 7 - Deep Q-Learning Algorithm with Experience Replay](#7)\n",
    "  - [ Exercise 2](#ex02)\n",
    "- [ 8 - Update the Network Weights](#8)\n",
    "- [ 9 - Train the Agent](#9)\n",
    "- [ 10 - See the Trained Agent In Action](#10)\n",
    "- [ 11 - Congratulations!](#11)\n",
    "- [ 12 - References](#12)\n"
   ]
  },
  {
   "cell_type": "markdown",
   "metadata": {},
   "source": [
    "_**NOTE:** To prevent errors from the autograder, you are not allowed to edit or delete non-graded cells in this lab. Please also refrain from adding any new cells. \n",
    "**Once you have passed this assignment** and want to experiment with any of the non-graded code, you may follow the instructions at the bottom of this notebook._"
   ]
  },
  {
   "cell_type": "markdown",
   "metadata": {},
   "source": [
    "<a name=\"1\"></a>\n",
    "## 1 - Import Packages\n",
    "\n",
    "We'll make use of the following packages:\n",
    "- `numpy` is a package for scientific computing in python.\n",
    "- `deque` will be our data structure for our memory buffer.\n",
    "- `namedtuple` will be used to store the experience tuples.\n",
    "- The `gym` toolkit is a collection of environments that can be used to test reinforcement learning algorithms. We should note that in this notebook we are using `gym` version `0.24.0`.\n",
    "- `PIL.Image` and `pyvirtualdisplay` are needed to render the Lunar Lander environment.\n",
    "- We will use several modules from the `tensorflow.keras` framework for building deep learning models.\n",
    "- `utils` is a module that contains helper functions for this assignment. You do not need to modify the code in this file.\n",
    "\n",
    "Run the cell below to import all the necessary packages."
   ]
  },
  {
   "cell_type": "code",
   "execution_count": 1,
   "metadata": {
    "deletable": false,
    "editable": false,
    "id": "KYbOPKRtfQOr"
   },
   "outputs": [],
   "source": [
    "import time\n",
    "from collections import deque, namedtuple\n",
    "\n",
    "import gym\n",
    "import numpy as np\n",
    "import PIL.Image\n",
    "import tensorflow as tf\n",
    "import utils\n",
    "\n",
    "from pyvirtualdisplay import Display\n",
    "from tensorflow.keras import Sequential\n",
    "from tensorflow.keras.layers import Dense, Input\n",
    "from tensorflow.keras.losses import MSE\n",
    "from tensorflow.keras.optimizers import Adam"
   ]
  },
  {
   "cell_type": "code",
   "execution_count": 2,
   "metadata": {
    "deletable": false,
    "editable": false
   },
   "outputs": [],
   "source": [
    "# Set up a virtual display to render the Lunar Lander environment.\n",
    "Display(visible=0, size=(840, 480)).start();\n",
    "\n",
    "# Set the random seed for TensorFlow\n",
    "tf.random.set_seed(utils.SEED)"
   ]
  },
  {
   "cell_type": "markdown",
   "metadata": {},
   "source": [
    "<a name=\"2\"></a>\n",
    "## 2 - Hyperparameters\n",
    "\n",
    "Run the cell below to set the hyperparameters."
   ]
  },
  {
   "cell_type": "code",
   "execution_count": 3,
   "metadata": {
    "deletable": false,
    "editable": false
   },
   "outputs": [],
   "source": [
    "MEMORY_SIZE = 100_000     # size of memory buffer\n",
    "GAMMA = 0.995             # discount factor\n",
    "ALPHA = 1e-3              # learning rate  \n",
    "NUM_STEPS_FOR_UPDATE = 4  # perform a learning update every C time steps"
   ]
  },
  {
   "cell_type": "markdown",
   "metadata": {},
   "source": [
    "<a name=\"3\"></a>\n",
    "## 3 - The Lunar Lander Environment\n",
    "\n",
    "In this notebook we will be using [OpenAI's Gym Library](https://www.gymlibrary.dev/). The Gym library provides a wide variety of environments for reinforcement learning. To put it simply, an environment represents a problem or task to be solved. In this notebook, we will try to solve the Lunar Lander environment using reinforcement learning.\n",
    "\n",
    "The goal of the Lunar Lander environment is to land the lunar lander safely on the landing pad on the surface of the moon. The landing pad is designated by two flag poles and its center is at coordinates `(0,0)` but the lander is also allowed to land outside of the landing pad. The lander starts at the top center of the environment with a random initial force applied to its center of mass and has infinite fuel. The environment is considered solved if you get `200` points. \n",
    "\n",
    "<br>\n",
    "<br>\n",
    "<figure>\n",
    "  <img src = \"images/lunar_lander.gif\" width = 40%>\n",
    "      <figcaption style = \"text-align: center; font-style: italic\">Fig 1. Lunar Lander Environment.</figcaption>\n",
    "</figure>\n",
    "\n",
    "\n",
    "\n",
    "<a name=\"3.1\"></a>\n",
    "### 3.1 Action Space\n",
    "\n",
    "The agent has four discrete actions available:\n",
    "\n",
    "* Do nothing.\n",
    "* Fire right engine.\n",
    "* Fire main engine.\n",
    "* Fire left engine.\n",
    "\n",
    "Each action has a corresponding numerical value:\n",
    "\n",
    "```python\n",
    "Do nothing = 0\n",
    "Fire right engine = 1\n",
    "Fire main engine = 2\n",
    "Fire left engine = 3\n",
    "```\n",
    "\n",
    "<a name=\"3.2\"></a>\n",
    "### 3.2 Observation Space\n",
    "\n",
    "The agent's observation space consists of a state vector with 8 variables:\n",
    "\n",
    "* Its $(x,y)$ coordinates. The landing pad is always at coordinates $(0,0)$.\n",
    "* Its linear velocities $(\\dot x,\\dot y)$.\n",
    "* Its angle $\\theta$.\n",
    "* Its angular velocity $\\dot \\theta$.\n",
    "* Two booleans, $l$ and $r$, that represent whether each leg is in contact with the ground or not.\n",
    "\n",
    "<a name=\"3.3\"></a>\n",
    "### 3.3 Rewards\n",
    "\n",
    "After every step, a reward is granted. The total reward of an episode is the sum of the rewards for all the steps within that episode.\n",
    "\n",
    "For each step, the reward:\n",
    "- is increased/decreased the closer/further the lander is to the landing pad.\n",
    "- is increased/decreased the slower/faster the lander is moving.\n",
    "- is decreased the more the lander is tilted (angle not horizontal).\n",
    "- is increased by 10 points for each leg that is in contact with the ground.\n",
    "- is decreased by 0.03 points each frame a side engine is firing.\n",
    "- is decreased by 0.3 points each frame the main engine is firing.\n",
    "\n",
    "The episode receives an additional reward of -100 or +100 points for crashing or landing safely respectively.\n",
    "\n",
    "<a name=\"3.4\"></a>\n",
    "### 3.4 Episode Termination\n",
    "\n",
    "An episode ends (i.e the environment enters a terminal state) if:\n",
    "\n",
    "* The lunar lander crashes (i.e if the body of the lunar lander comes in contact with the surface of the moon).\n",
    "\n",
    "* The absolute value of the lander's $x$-coordinate is greater than 1 (i.e. it goes beyond the left or right border)\n",
    "\n",
    "You can check out the [Open AI Gym documentation](https://www.gymlibrary.dev/environments/box2d/lunar_lander/) for a full description of the environment. "
   ]
  },
  {
   "cell_type": "markdown",
   "metadata": {},
   "source": [
    "<a name=\"4\"></a>\n",
    "## 4 - Load the Environment\n",
    "\n",
    "We start by loading the `LunarLander-v2` environment from the `gym` library by using the `.make()` method. `LunarLander-v2` is the latest version of the Lunar Lander environment and you can read about its version history in the [Open AI Gym documentation](https://www.gymlibrary.dev/environments/box2d/lunar_lander/#version-history)."
   ]
  },
  {
   "cell_type": "code",
   "execution_count": 4,
   "metadata": {
    "deletable": false,
    "editable": false,
    "id": "ILVMYKewfR0n"
   },
   "outputs": [],
   "source": [
    "env = gym.make('LunarLander-v2')"
   ]
  },
  {
   "cell_type": "markdown",
   "metadata": {},
   "source": [
    "Once we load the environment we use the `.reset()` method to reset the environment to the initial state. The lander starts at the top center of the environment and we can render the first frame of the environment by using the `.render()` method."
   ]
  },
  {
   "cell_type": "code",
   "execution_count": 5,
   "metadata": {
    "deletable": false,
    "editable": false
   },
   "outputs": [
    {
     "data": {
      "image/png": "[encoded data removed]",
      "text/plain": [
       "<PIL.Image.Image image mode=RGB size=600x400 at 0x7F0763521E10>"
      ]
     },
     "execution_count": 5,
     "metadata": {},
     "output_type": "execute_result"
    }
   ],
   "source": [
    "env.reset()\n",
    "PIL.Image.fromarray(env.render(mode='rgb_array'))"
   ]
  },
  {
   "cell_type": "markdown",
   "metadata": {},
   "source": [
    "In order to build our neural network later on we need to know the size of the state vector and the number of valid actions. We can get this information from our environment by using the `.observation_space.shape` and `action_space.n` methods, respectively."
   ]
  },
  {
   "cell_type": "code",
   "execution_count": 6,
   "metadata": {
    "deletable": false,
    "editable": false,
    "id": "x3fdqdG4CUu2"
   },
   "outputs": [
    {
     "name": "stdout",
     "output_type": "stream",
     "text": [
      "State Shape: (8,)\n",
      "Number of actions: 4\n"
     ]
    }
   ],
   "source": [
    "state_size = env.observation_space.shape\n",
    "num_actions = env.action_space.n\n",
    "\n",
    "print('State Shape:', state_size)\n",
    "print('Number of actions:', num_actions)"
   ]
  },
  {
   "cell_type": "markdown",
   "metadata": {},
   "source": [
    "<a name=\"5\"></a>\n",
    "## 5 - Interacting with the Gym Environment\n",
    "\n",
    "The Gym library implements the standard “agent-environment loop” formalism:\n",
    "\n",
    "<br>\n",
    "<center>\n",
    "<video src = \"./videos/rl_formalism.m4v\" width=\"840\" height=\"480\" controls autoplay loop poster=\"./images/rl_formalism.png\"> </video>\n",
    "<figcaption style = \"text-align:center; font-style:italic\">Fig 2. Agent-environment Loop Formalism.</figcaption>\n",
    "</center>\n",
    "<br>\n",
    "\n",
    "In the standard “agent-environment loop” formalism, an agent interacts with the environment in discrete time steps $t=0,1,2,...$. At each time step $t$, the agent uses a policy $\\pi$ to select an action $A_t$ based on its observation of the environment's state $S_t$. The agent receives a numerical reward $R_t$ and on the next time step, moves to a new state $S_{t+1}$.\n",
    "\n",
    "<a name=\"5.1\"></a>\n",
    "### 5.1 Exploring the Environment's Dynamics\n",
    "\n",
    "In Open AI's Gym environments, we use the `.step()` method to run a single time step of the environment's dynamics. In the version of `gym` that we are using the `.step()` method accepts an action and returns four values:\n",
    "\n",
    "* `observation` (**object**): an environment-specific object representing your observation of the environment. In the Lunar Lander environment this corresponds to a numpy array containing the positions and velocities of the lander as described in section [3.2 Observation Space](#3.2).\n",
    "\n",
    "\n",
    "* `reward` (**float**): amount of reward returned as a result of taking the given action. In the Lunar Lander environment this corresponds to a float of type `numpy.float64` as described in section [3.3 Rewards](#3.3).\n",
    "\n",
    "\n",
    "* `done` (**boolean**): When done is `True`, it indicates the episode has terminated and it’s time to reset the environment. \n",
    "\n",
    "\n",
    "* `info` (**dictionary**): diagnostic information useful for debugging. We won't be using this variable in this notebook but it is shown here for completeness.\n",
    "\n",
    "To begin an episode, we need to reset the environment to an initial state. We do this by using the `.reset()` method. "
   ]
  },
  {
   "cell_type": "code",
   "execution_count": 8,
   "metadata": {
    "deletable": false,
    "editable": false
   },
   "outputs": [],
   "source": [
    "# Reset the environment and get the initial state.\n",
    "current_state = env.reset()"
   ]
  },
  {
   "cell_type": "markdown",
   "metadata": {},
   "source": [
    "Once the environment is reset, the agent can start taking actions in the environment by using the `.step()` method. Note that the agent can only take one action per time step. \n",
    "\n",
    "In the cell below you can select different actions and see how the returned values change depending on the action taken. Remember that in this environment the agent has four discrete actions available and we specify them in code by using their corresponding numerical value:\n",
    "\n",
    "```python\n",
    "Do nothing = 0\n",
    "Fire right engine = 1\n",
    "Fire main engine = 2\n",
    "Fire left engine = 3\n",
    "```"
   ]
  },
  {
   "cell_type": "code",
   "execution_count": 9,
   "metadata": {
    "deletable": false
   },
   "outputs": [
    {
     "data": {
      "text/html": [
       "<style  type=\"text/css\" >\n",
       "    #T_52d99996_bae4_11ee_8972_0242ac1200ed th {\n",
       "          border: 1px solid grey;\n",
       "          text-align: center;\n",
       "    }    #T_52d99996_bae4_11ee_8972_0242ac1200ed tbody td {\n",
       "          border: 1px solid grey;\n",
       "          text-align: center;\n",
       "    }    #T_52d99996_bae4_11ee_8972_0242ac1200edrow0_col0 {\n",
       "            background-color :  grey;\n",
       "        }    #T_52d99996_bae4_11ee_8972_0242ac1200edrow1_col1 {\n",
       "            background-color :  grey;\n",
       "        }    #T_52d99996_bae4_11ee_8972_0242ac1200edrow1_col2 {\n",
       "            background-color :  grey;\n",
       "        }    #T_52d99996_bae4_11ee_8972_0242ac1200edrow1_col3 {\n",
       "            background-color :  grey;\n",
       "        }    #T_52d99996_bae4_11ee_8972_0242ac1200edrow1_col4 {\n",
       "            background-color :  grey;\n",
       "        }    #T_52d99996_bae4_11ee_8972_0242ac1200edrow1_col5 {\n",
       "            background-color :  grey;\n",
       "        }    #T_52d99996_bae4_11ee_8972_0242ac1200edrow1_col6 {\n",
       "            background-color :  grey;\n",
       "        }    #T_52d99996_bae4_11ee_8972_0242ac1200edrow1_col7 {\n",
       "            background-color :  grey;\n",
       "        }    #T_52d99996_bae4_11ee_8972_0242ac1200edrow1_col8 {\n",
       "            background-color :  grey;\n",
       "        }    #T_52d99996_bae4_11ee_8972_0242ac1200edrow1_col9 {\n",
       "            background-color :  grey;\n",
       "        }    #T_52d99996_bae4_11ee_8972_0242ac1200edrow1_col10 {\n",
       "            background-color :  grey;\n",
       "        }    #T_52d99996_bae4_11ee_8972_0242ac1200edrow1_col11 {\n",
       "            background-color :  grey;\n",
       "        }    #T_52d99996_bae4_11ee_8972_0242ac1200edrow2_col0 {\n",
       "            background-color :  grey;\n",
       "        }    #T_52d99996_bae4_11ee_8972_0242ac1200edrow3_col1 {\n",
       "            background-color :  grey;\n",
       "        }    #T_52d99996_bae4_11ee_8972_0242ac1200edrow3_col2 {\n",
       "            background-color :  grey;\n",
       "        }    #T_52d99996_bae4_11ee_8972_0242ac1200edrow3_col3 {\n",
       "            background-color :  grey;\n",
       "        }    #T_52d99996_bae4_11ee_8972_0242ac1200edrow3_col4 {\n",
       "            background-color :  grey;\n",
       "        }    #T_52d99996_bae4_11ee_8972_0242ac1200edrow3_col5 {\n",
       "            background-color :  grey;\n",
       "        }    #T_52d99996_bae4_11ee_8972_0242ac1200edrow3_col6 {\n",
       "            background-color :  grey;\n",
       "        }    #T_52d99996_bae4_11ee_8972_0242ac1200edrow3_col7 {\n",
       "            background-color :  grey;\n",
       "        }    #T_52d99996_bae4_11ee_8972_0242ac1200edrow3_col8 {\n",
       "            background-color :  grey;\n",
       "        }    #T_52d99996_bae4_11ee_8972_0242ac1200edrow3_col9 {\n",
       "            background-color :  grey;\n",
       "        }    #T_52d99996_bae4_11ee_8972_0242ac1200edrow3_col10 {\n",
       "            background-color :  grey;\n",
       "        }    #T_52d99996_bae4_11ee_8972_0242ac1200edrow3_col11 {\n",
       "            background-color :  grey;\n",
       "        }    #T_52d99996_bae4_11ee_8972_0242ac1200edrow4_col1 {\n",
       "            background-color :  grey;\n",
       "        }    #T_52d99996_bae4_11ee_8972_0242ac1200edrow4_col2 {\n",
       "            background-color :  grey;\n",
       "        }    #T_52d99996_bae4_11ee_8972_0242ac1200edrow4_col3 {\n",
       "            background-color :  grey;\n",
       "        }    #T_52d99996_bae4_11ee_8972_0242ac1200edrow4_col4 {\n",
       "            background-color :  grey;\n",
       "        }    #T_52d99996_bae4_11ee_8972_0242ac1200edrow4_col5 {\n",
       "            background-color :  grey;\n",
       "        }    #T_52d99996_bae4_11ee_8972_0242ac1200edrow4_col6 {\n",
       "            background-color :  grey;\n",
       "        }    #T_52d99996_bae4_11ee_8972_0242ac1200edrow4_col7 {\n",
       "            background-color :  grey;\n",
       "        }    #T_52d99996_bae4_11ee_8972_0242ac1200edrow4_col8 {\n",
       "            background-color :  grey;\n",
       "        }    #T_52d99996_bae4_11ee_8972_0242ac1200edrow4_col9 {\n",
       "            background-color :  grey;\n",
       "        }    #T_52d99996_bae4_11ee_8972_0242ac1200edrow4_col10 {\n",
       "            background-color :  grey;\n",
       "        }    #T_52d99996_bae4_11ee_8972_0242ac1200edrow4_col11 {\n",
       "            background-color :  grey;\n",
       "        }</style><table id=\"T_52d99996_bae4_11ee_8972_0242ac1200ed\" ><thead>    <tr>        <th class=\"blank level0\" ></th>        <th class=\"col_heading level0 col0\" ></th>        <th class=\"col_heading level0 col1\" colspan=8>State Vector</th>        <th class=\"col_heading level0 col9\" colspan=3>Derived from the State Vector (the closer to zero, the better)</th>    </tr>    <tr>        <th class=\"blank level1\" ></th>        <th class=\"col_heading level1 col0\" ></th>        <th class=\"col_heading level1 col1\" colspan=2>Coordinate</th>        <th class=\"col_heading level1 col3\" colspan=2>Velocity</th>        <th class=\"col_heading level1 col5\" colspan=2>Tilting</th>        <th class=\"col_heading level1 col7\" colspan=2>Ground contact</th>        <th class=\"col_heading level1 col9\" >Distance from landing pad</th>        <th class=\"col_heading level1 col10\" >Velocity</th>        <th class=\"col_heading level1 col11\" >Tilting Angle (absolute value)</th>    </tr>    <tr>        <th class=\"blank level2\" ></th>        <th class=\"col_heading level2 col0\" ></th>        <th class=\"col_heading level2 col1\" >X (Horizontal)</th>        <th class=\"col_heading level2 col2\" >Y (Vertical)</th>        <th class=\"col_heading level2 col3\" >X (Horizontal)</th>        <th class=\"col_heading level2 col4\" >Y (Vertical)</th>        <th class=\"col_heading level2 col5\" >Angle</th>        <th class=\"col_heading level2 col6\" >Angular Velocity</th>        <th class=\"col_heading level2 col7\" >Left Leg?</th>        <th class=\"col_heading level2 col8\" >Right Leg?</th>        <th class=\"col_heading level2 col9\" ></th>        <th class=\"col_heading level2 col10\" ></th>        <th class=\"col_heading level2 col11\" ></th>    </tr></thead><tbody>\n",
       "                <tr>\n",
       "                        <th id=\"T_52d99996_bae4_11ee_8972_0242ac1200edlevel0_row0\" class=\"row_heading level0 row0\" >Current State</th>\n",
       "                        <td id=\"T_52d99996_bae4_11ee_8972_0242ac1200edrow0_col0\" class=\"data row0 col0\" ></td>\n",
       "                        <td id=\"T_52d99996_bae4_11ee_8972_0242ac1200edrow0_col1\" class=\"data row0 col1\" >-0.007748</td>\n",
       "                        <td id=\"T_52d99996_bae4_11ee_8972_0242ac1200edrow0_col2\" class=\"data row0 col2\" >1.419120</td>\n",
       "                        <td id=\"T_52d99996_bae4_11ee_8972_0242ac1200edrow0_col3\" class=\"data row0 col3\" >-0.784778</td>\n",
       "                        <td id=\"T_52d99996_bae4_11ee_8972_0242ac1200edrow0_col4\" class=\"data row0 col4\" >0.364432</td>\n",
       "                        <td id=\"T_52d99996_bae4_11ee_8972_0242ac1200edrow0_col5\" class=\"data row0 col5\" >0.008984</td>\n",
       "                        <td id=\"T_52d99996_bae4_11ee_8972_0242ac1200edrow0_col6\" class=\"data row0 col6\" >0.177764</td>\n",
       "                        <td id=\"T_52d99996_bae4_11ee_8972_0242ac1200edrow0_col7\" class=\"data row0 col7\" >False</td>\n",
       "                        <td id=\"T_52d99996_bae4_11ee_8972_0242ac1200edrow0_col8\" class=\"data row0 col8\" >False</td>\n",
       "                        <td id=\"T_52d99996_bae4_11ee_8972_0242ac1200edrow0_col9\" class=\"data row0 col9\" >1.419142</td>\n",
       "                        <td id=\"T_52d99996_bae4_11ee_8972_0242ac1200edrow0_col10\" class=\"data row0 col10\" >0.865267</td>\n",
       "                        <td id=\"T_52d99996_bae4_11ee_8972_0242ac1200edrow0_col11\" class=\"data row0 col11\" >0.008984</td>\n",
       "            </tr>\n",
       "            <tr>\n",
       "                        <th id=\"T_52d99996_bae4_11ee_8972_0242ac1200edlevel0_row1\" class=\"row_heading level0 row1\" >Action</th>\n",
       "                        <td id=\"T_52d99996_bae4_11ee_8972_0242ac1200edrow1_col0\" class=\"data row1 col0\" >Do nothing</td>\n",
       "                        <td id=\"T_52d99996_bae4_11ee_8972_0242ac1200edrow1_col1\" class=\"data row1 col1\" ></td>\n",
       "                        <td id=\"T_52d99996_bae4_11ee_8972_0242ac1200edrow1_col2\" class=\"data row1 col2\" ></td>\n",
       "                        <td id=\"T_52d99996_bae4_11ee_8972_0242ac1200edrow1_col3\" class=\"data row1 col3\" ></td>\n",
       "                        <td id=\"T_52d99996_bae4_11ee_8972_0242ac1200edrow1_col4\" class=\"data row1 col4\" ></td>\n",
       "                        <td id=\"T_52d99996_bae4_11ee_8972_0242ac1200edrow1_col5\" class=\"data row1 col5\" ></td>\n",
       "                        <td id=\"T_52d99996_bae4_11ee_8972_0242ac1200edrow1_col6\" class=\"data row1 col6\" ></td>\n",
       "                        <td id=\"T_52d99996_bae4_11ee_8972_0242ac1200edrow1_col7\" class=\"data row1 col7\" ></td>\n",
       "                        <td id=\"T_52d99996_bae4_11ee_8972_0242ac1200edrow1_col8\" class=\"data row1 col8\" ></td>\n",
       "                        <td id=\"T_52d99996_bae4_11ee_8972_0242ac1200edrow1_col9\" class=\"data row1 col9\" ></td>\n",
       "                        <td id=\"T_52d99996_bae4_11ee_8972_0242ac1200edrow1_col10\" class=\"data row1 col10\" ></td>\n",
       "                        <td id=\"T_52d99996_bae4_11ee_8972_0242ac1200edrow1_col11\" class=\"data row1 col11\" ></td>\n",
       "            </tr>\n",
       "            <tr>\n",
       "                        <th id=\"T_52d99996_bae4_11ee_8972_0242ac1200edlevel0_row2\" class=\"row_heading level0 row2\" >Next State</th>\n",
       "                        <td id=\"T_52d99996_bae4_11ee_8972_0242ac1200edrow2_col0\" class=\"data row2 col0\" ></td>\n",
       "                        <td id=\"T_52d99996_bae4_11ee_8972_0242ac1200edrow2_col1\" class=\"data row2 col1\" >-0.015496</td>\n",
       "                        <td id=\"T_52d99996_bae4_11ee_8972_0242ac1200edrow2_col2\" class=\"data row2 col2\" >1.426743</td>\n",
       "                        <td id=\"T_52d99996_bae4_11ee_8972_0242ac1200edrow2_col3\" class=\"data row2 col3\" >-0.783716</td>\n",
       "                        <td id=\"T_52d99996_bae4_11ee_8972_0242ac1200edrow2_col4\" class=\"data row2 col4\" >0.338718</td>\n",
       "                        <td id=\"T_52d99996_bae4_11ee_8972_0242ac1200edrow2_col5\" class=\"data row2 col5\" >0.017769</td>\n",
       "                        <td id=\"T_52d99996_bae4_11ee_8972_0242ac1200edrow2_col6\" class=\"data row2 col6\" >0.175698</td>\n",
       "                        <td id=\"T_52d99996_bae4_11ee_8972_0242ac1200edrow2_col7\" class=\"data row2 col7\" >False</td>\n",
       "                        <td id=\"T_52d99996_bae4_11ee_8972_0242ac1200edrow2_col8\" class=\"data row2 col8\" >False</td>\n",
       "                        <td id=\"T_52d99996_bae4_11ee_8972_0242ac1200edrow2_col9\" class=\"data row2 col9\" >1.426828</td>\n",
       "                        <td id=\"T_52d99996_bae4_11ee_8972_0242ac1200edrow2_col10\" class=\"data row2 col10\" >0.853780</td>\n",
       "                        <td id=\"T_52d99996_bae4_11ee_8972_0242ac1200edrow2_col11\" class=\"data row2 col11\" >0.017769</td>\n",
       "            </tr>\n",
       "            <tr>\n",
       "                        <th id=\"T_52d99996_bae4_11ee_8972_0242ac1200edlevel0_row3\" class=\"row_heading level0 row3\" >Reward</th>\n",
       "                        <td id=\"T_52d99996_bae4_11ee_8972_0242ac1200edrow3_col0\" class=\"data row3 col0\" >-0.498333</td>\n",
       "                        <td id=\"T_52d99996_bae4_11ee_8972_0242ac1200edrow3_col1\" class=\"data row3 col1\" ></td>\n",
       "                        <td id=\"T_52d99996_bae4_11ee_8972_0242ac1200edrow3_col2\" class=\"data row3 col2\" ></td>\n",
       "                        <td id=\"T_52d99996_bae4_11ee_8972_0242ac1200edrow3_col3\" class=\"data row3 col3\" ></td>\n",
       "                        <td id=\"T_52d99996_bae4_11ee_8972_0242ac1200edrow3_col4\" class=\"data row3 col4\" ></td>\n",
       "                        <td id=\"T_52d99996_bae4_11ee_8972_0242ac1200edrow3_col5\" class=\"data row3 col5\" ></td>\n",
       "                        <td id=\"T_52d99996_bae4_11ee_8972_0242ac1200edrow3_col6\" class=\"data row3 col6\" ></td>\n",
       "                        <td id=\"T_52d99996_bae4_11ee_8972_0242ac1200edrow3_col7\" class=\"data row3 col7\" ></td>\n",
       "                        <td id=\"T_52d99996_bae4_11ee_8972_0242ac1200edrow3_col8\" class=\"data row3 col8\" ></td>\n",
       "                        <td id=\"T_52d99996_bae4_11ee_8972_0242ac1200edrow3_col9\" class=\"data row3 col9\" ></td>\n",
       "                        <td id=\"T_52d99996_bae4_11ee_8972_0242ac1200edrow3_col10\" class=\"data row3 col10\" ></td>\n",
       "                        <td id=\"T_52d99996_bae4_11ee_8972_0242ac1200edrow3_col11\" class=\"data row3 col11\" ></td>\n",
       "            </tr>\n",
       "            <tr>\n",
       "                        <th id=\"T_52d99996_bae4_11ee_8972_0242ac1200edlevel0_row4\" class=\"row_heading level0 row4\" >Episode Terminated</th>\n",
       "                        <td id=\"T_52d99996_bae4_11ee_8972_0242ac1200edrow4_col0\" class=\"data row4 col0\" >False</td>\n",
       "                        <td id=\"T_52d99996_bae4_11ee_8972_0242ac1200edrow4_col1\" class=\"data row4 col1\" ></td>\n",
       "                        <td id=\"T_52d99996_bae4_11ee_8972_0242ac1200edrow4_col2\" class=\"data row4 col2\" ></td>\n",
       "                        <td id=\"T_52d99996_bae4_11ee_8972_0242ac1200edrow4_col3\" class=\"data row4 col3\" ></td>\n",
       "                        <td id=\"T_52d99996_bae4_11ee_8972_0242ac1200edrow4_col4\" class=\"data row4 col4\" ></td>\n",
       "                        <td id=\"T_52d99996_bae4_11ee_8972_0242ac1200edrow4_col5\" class=\"data row4 col5\" ></td>\n",
       "                        <td id=\"T_52d99996_bae4_11ee_8972_0242ac1200edrow4_col6\" class=\"data row4 col6\" ></td>\n",
       "                        <td id=\"T_52d99996_bae4_11ee_8972_0242ac1200edrow4_col7\" class=\"data row4 col7\" ></td>\n",
       "                        <td id=\"T_52d99996_bae4_11ee_8972_0242ac1200edrow4_col8\" class=\"data row4 col8\" ></td>\n",
       "                        <td id=\"T_52d99996_bae4_11ee_8972_0242ac1200edrow4_col9\" class=\"data row4 col9\" ></td>\n",
       "                        <td id=\"T_52d99996_bae4_11ee_8972_0242ac1200edrow4_col10\" class=\"data row4 col10\" ></td>\n",
       "                        <td id=\"T_52d99996_bae4_11ee_8972_0242ac1200edrow4_col11\" class=\"data row4 col11\" ></td>\n",
       "            </tr>\n",
       "    </tbody></table>"
      ],
      "text/plain": [
       "<pandas.io.formats.style.Styler at 0x7f0763a72610>"
      ]
     },
     "metadata": {},
     "output_type": "display_data"
    }
   ],
   "source": [
    "# Select an action\n",
    "action = 0\n",
    "\n",
    "# Run a single time step of the environment's dynamics with the given action.\n",
    "next_state, reward, done, _ = env.step(action)\n",
    "\n",
    "# Display table with values.\n",
    "utils.display_table(current_state, action, next_state, reward, done)\n",
    "\n",
    "# Replace the `current_state` with the state after the action is taken\n",
    "current_state = next_state"
   ]
  },
  {
   "cell_type": "markdown",
   "metadata": {},
   "source": [
    "In practice, when we train the agent we use a loop to allow the agent to take many consecutive actions during an episode."
   ]
  },
  {
   "cell_type": "markdown",
   "metadata": {},
   "source": [
    "<a name=\"6\"></a>\n",
    "## 6 - Deep Q-Learning\n",
    "\n",
    "In cases where both the state and action space are discrete we can estimate the action-value function iteratively by using the Bellman equation:\n",
    "\n",
    "$$\n",
    "Q_{i+1}(s,a) = R + \\gamma \\max_{a'}Q_i(s',a')\n",
    "$$\n",
    "\n",
    "This iterative method converges to the optimal action-value function $Q^*(s,a)$ as $i\\to\\infty$. This means that the agent just needs to gradually explore the state-action space and keep updating the estimate of $Q(s,a)$ until it converges to the optimal action-value function $Q^*(s,a)$. However, in cases where the state space is continuous it becomes practically impossible to explore the entire state-action space. Consequently, this also makes it practically impossible to gradually estimate $Q(s,a)$ until it converges to $Q^*(s,a)$.\n",
    "\n",
    "In the Deep $Q$-Learning, we solve this problem by using a neural network to estimate the action-value function $Q(s,a)\\approx Q^*(s,a)$. We call this neural network a $Q$-Network and it can be trained by adjusting its weights at each iteration to minimize the mean-squared error in the Bellman equation.\n",
    "\n",
    "Unfortunately, using neural networks in reinforcement learning to estimate action-value functions has proven to be highly unstable. Luckily, there's a couple of techniques that can be employed to avoid instabilities. These techniques consist of using a ***Target Network*** and ***Experience Replay***. We will explore these two techniques in the following sections."
   ]
  },
  {
   "cell_type": "markdown",
   "metadata": {},
   "source": [
    "<a name=\"6.1\"></a>\n",
    "### 6.1 Target Network\n",
    "\n",
    "We can train the $Q$-Network by adjusting it's weights at each iteration to minimize the mean-squared error in the Bellman equation, where the target values are given by:\n",
    "\n",
    "$$\n",
    "y = R + \\gamma \\max_{a'}Q(s',a';w)\n",
    "$$\n",
    "\n",
    "where $w$ are the weights of the $Q$-Network. This means that we are adjusting the weights $w$ at each iteration to minimize the following error:\n",
    "\n",
    "$$\n",
    "\\overbrace{\\underbrace{R + \\gamma \\max_{a'}Q(s',a'; w)}_{\\rm {y~target}} - Q(s,a;w)}^{\\rm {Error}}\n",
    "$$\n",
    "\n",
    "Notice that this forms a problem because the $y$ target is changing on every iteration. Having a constantly moving target can lead to oscillations and instabilities. To avoid this, we can create\n",
    "a separate neural network for generating the $y$ targets. We call this separate neural network the **target $\\hat Q$-Network** and it will have the same architecture as the original $Q$-Network. By using the target $\\hat Q$-Network, the above error becomes:\n",
    "\n",
    "$$\n",
    "\\overbrace{\\underbrace{R + \\gamma \\max_{a'}\\hat{Q}(s',a'; w^-)}_{\\rm {y~target}} - Q(s,a;w)}^{\\rm {Error}}\n",
    "$$\n",
    "\n",
    "where $w^-$ and $w$ are the weights of the target $\\hat Q$-Network and $Q$-Network, respectively.\n",
    "\n",
    "In practice, we will use the following algorithm: every $C$ time steps we will use the $\\hat Q$-Network to generate the $y$ targets and update the weights of the target $\\hat Q$-Network using the weights of the $Q$-Network. We will update the weights $w^-$ of the the target $\\hat Q$-Network using a **soft update**. This means that we will update the weights $w^-$ using the following rule:\n",
    " \n",
    "$$\n",
    "w^-\\leftarrow \\tau w + (1 - \\tau) w^-\n",
    "$$\n",
    "\n",
    "where $\\tau\\ll 1$. By using the soft update, we are ensuring that the target values, $y$, change slowly, which greatly improves the stability of our learning algorithm."
   ]
  },
  {
   "cell_type": "markdown",
   "metadata": {},
   "source": [
    "<a name=\"ex01\"></a>\n",
    "### Exercise 1\n",
    "\n",
    "In this exercise you will create the $Q$ and target $\\hat Q$ networks and set the optimizer. Remember that the Deep $Q$-Network (DQN) is a neural network that approximates the action-value function $Q(s,a)\\approx Q^*(s,a)$. It does this by learning how to map states to $Q$ values.\n",
    "\n",
    "To solve the Lunar Lander environment, we are going to employ a DQN with the following architecture:\n",
    "\n",
    "* An `Input` layer that takes `state_size` as input.\n",
    "\n",
    "* A `Dense` layer with `64` units and a `relu` activation function.\n",
    "\n",
    "* A `Dense` layer with `64` units and a `relu` activation function.\n",
    "\n",
    "* A `Dense` layer with `num_actions` units and a `linear` activation function. This will be the output layer of our network.\n",
    "\n",
    "\n",
    "In the cell below you should create the $Q$-Network and the target $\\hat Q$-Network using the model architecture described above. Remember that both the $Q$-Network and the target $\\hat Q$-Network have the same architecture.\n",
    "\n",
    "Lastly, you should set `Adam` as the optimizer with a learning rate equal to `ALPHA`. Recall that `ALPHA` was defined in the [Hyperparameters](#2) section. We should note that for this exercise you should use the already imported packages:\n",
    "```python\n",
    "from tensorflow.keras.layers import Dense, Input\n",
    "from tensorflow.keras.optimizers import Adam\n",
    "```"
   ]
  },
  {
   "cell_type": "code",
   "execution_count": 23,
   "metadata": {
    "deletable": false
   },
   "outputs": [],
   "source": [
    "# UNQ_C1\n",
    "# GRADED CELL\n",
    "\n",
    "# Create the Q-Network\n",
    "q_network = Sequential([\n",
    "    ### START CODE HERE ### \n",
    "    \n",
    "    Input(shape=state_size),\n",
    "    Dense(units=64, activation='relu'),\n",
    "    Dense(units=64, activation='relu'),\n",
    "    Dense(units=num_actions, activation='linear')    \n",
    "    \n",
    "    ### END CODE HERE ### \n",
    "    ])\n",
    "\n",
    "# Create the target Q^-Network\n",
    "target_q_network = Sequential([\n",
    "    ### START CODE HERE ### \n",
    "    \n",
    "    Input(shape=state_size),\n",
    "    Dense(units=64, activation='relu'),\n",
    "    Dense(units=64, activation='relu'),\n",
    "    Dense(units=num_actions, activation='linear')\n",
    "    \n",
    "    ### END CODE HERE ###\n",
    "    ])\n",
    "\n",
    "### START CODE HERE ### \n",
    "optimizer = Adam(learning_rate=ALPHA)\n",
    "### END CODE HERE ###"
   ]
  },
  {
   "cell_type": "code",
   "execution_count": 24,
   "metadata": {
    "deletable": false,
    "editable": false
   },
   "outputs": [
    {
     "name": "stdout",
     "output_type": "stream",
     "text": [
      "\u001b[92mAll tests passed!\n",
      "\u001b[92mAll tests passed!\n",
      "\u001b[92mAll tests passed!\n"
     ]
    }
   ],
   "source": [
    "# UNIT TEST\n",
    "from public_tests import *\n",
    "\n",
    "test_network(q_network)\n",
    "test_network(target_q_network)\n",
    "test_optimizer(optimizer, ALPHA) "
   ]
  },
  {
   "cell_type": "markdown",
   "metadata": {},
   "source": [
    "<details>\n",
    "  <summary><font size=\"3\" color=\"darkgreen\"><b>Click for hints</b></font></summary>\n",
    "    \n",
    "```python\n",
    "# Create the Q-Network\n",
    "q_network = Sequential([\n",
    "    Input(shape=state_size),                      \n",
    "    Dense(units=64, activation='relu'),            \n",
    "    Dense(units=64, activation='relu'),            \n",
    "    Dense(units=num_actions, activation='linear'),\n",
    "    ])\n",
    "\n",
    "# Create the target Q^-Network\n",
    "target_q_network = Sequential([\n",
    "    Input(shape=state_size),                       \n",
    "    Dense(units=64, activation='relu'),            \n",
    "    Dense(units=64, activation='relu'),            \n",
    "    Dense(units=num_actions, activation='linear'), \n",
    "    ])\n",
    "\n",
    "optimizer = Adam(learning_rate=ALPHA)                                  \n",
    "``` "
   ]
  },
  {
   "cell_type": "markdown",
   "metadata": {},
   "source": [
    "<a name=\"6.2\"></a>\n",
    "### 6.2 Experience Replay\n",
    "\n",
    "When an agent interacts with the environment, the states, actions, and rewards the agent experiences are sequential by nature. If the agent tries to learn from these consecutive experiences it can run into problems due to the strong correlations between them. To avoid this, we employ a technique known as **Experience Replay** to generate uncorrelated experiences for training our agent. Experience replay consists of storing the agent's experiences (i.e the states, actions, and rewards the agent receives) in a memory buffer and then sampling a random mini-batch of experiences from the buffer to do the learning. The experience tuples $(S_t, A_t, R_t, S_{t+1})$ will be added to the memory buffer at each time step as the agent interacts with the environment.\n",
    "\n",
    "For convenience, we will store the experiences as named tuples."
   ]
  },
  {
   "cell_type": "code",
   "execution_count": 26,
   "metadata": {
    "deletable": false,
    "editable": false
   },
   "outputs": [],
   "source": [
    "# Store experiences as named tuples\n",
    "experience = namedtuple(\"Experience\", field_names=[\"state\", \"action\", \"reward\", \"next_state\", \"done\"])"
   ]
  },
  {
   "cell_type": "markdown",
   "metadata": {},
   "source": [
    "By using experience replay we avoid problematic correlations, oscillations and instabilities. In addition, experience replay also allows the agent to potentially use the same experience in multiple weight updates, which increases data efficiency."
   ]
  },
  {
   "cell_type": "markdown",
   "metadata": {},
   "source": [
    "<a name=\"7\"></a>\n",
    "## 7 - Deep Q-Learning Algorithm with Experience Replay\n",
    "\n",
    "Now that we know all the techniques that we are going to use, we can put them together to arrive at the Deep Q-Learning Algorithm With Experience Replay.\n",
    "<br>\n",
    "<br>\n",
    "<figure>\n",
    "  <img src = \"images/deep_q_algorithm.png\" width = 90% style = \"border: thin silver solid; padding: 0px\">\n",
    "      <figcaption style = \"text-align: center; font-style: italic\">Fig 3. Deep Q-Learning with Experience Replay.</figcaption>\n",
    "</figure>"
   ]
  },
  {
   "cell_type": "markdown",
   "metadata": {},
   "source": [
    "<a name=\"ex02\"></a>\n",
    "### Exercise 2\n",
    "\n",
    "In this exercise you will implement line ***12*** of the algorithm outlined in *Fig 3* above and you will also compute the loss between the $y$ targets and the $Q(s,a)$ values. In the cell below, complete the `compute_loss` function by setting the $y$ targets equal to:\n",
    "\n",
    "$$\n",
    "\\begin{equation}\n",
    "    y_j =\n",
    "    \\begin{cases}\n",
    "      R_j & \\text{if episode terminates at step  } j+1\\\\\n",
    "      R_j + \\gamma \\max_{a'}\\hat{Q}(s_{j+1},a') & \\text{otherwise}\\\\\n",
    "    \\end{cases}       \n",
    "\\end{equation}\n",
    "$$\n",
    "\n",
    "Here are a couple of things to note:\n",
    "\n",
    "* The `compute_loss` function takes in a mini-batch of experience tuples. This mini-batch of experience tuples is unpacked to extract the `states`, `actions`, `rewards`, `next_states`, and `done_vals`. You should keep in mind that these variables are *TensorFlow Tensors* whose size will depend on the mini-batch size. For example, if the mini-batch size is `64` then both `rewards` and `done_vals` will be TensorFlow Tensors with `64` elements.\n",
    "\n",
    "\n",
    "* Using `if/else` statements to set the $y$ targets will not work when the variables are tensors with many elements. However, notice that you can use the `done_vals` to implement the above in a single line of code. To do this, recall that the `done` variable is a Boolean variable that takes the value `True` when an episode terminates at step $j+1$ and it is `False` otherwise. Taking into account that a Boolean value of `True` has the numerical value of `1` and a Boolean value of `False` has the numerical value of `0`, you can use the factor `(1 - done_vals)` to implement the above in a single line of code. Here's a hint: notice that `(1 - done_vals)` has a value of `0` when `done_vals` is `True` and a value of `1` when `done_vals` is `False`. \n",
    "\n",
    "Lastly, compute the loss by calculating the Mean-Squared Error (`MSE`) between the `y_targets` and the `q_values`. To calculate the mean-squared error you should use the already imported package `MSE`:\n",
    "```python\n",
    "from tensorflow.keras.losses import MSE\n",
    "```"
   ]
  },
  {
   "cell_type": "code",
   "execution_count": 29,
   "metadata": {
    "deletable": false
   },
   "outputs": [],
   "source": [
    "# UNQ_C2\n",
    "# GRADED FUNCTION: calculate_loss\n",
    "\n",
    "def compute_loss(experiences, gamma, q_network, target_q_network):\n",
    "    \"\"\" \n",
    "    Calculates the loss.\n",
    "    \n",
    "    Args:\n",
    "      experiences: (tuple) tuple of [\"state\", \"action\", \"reward\", \"next_state\", \"done\"] namedtuples\n",
    "      gamma: (float) The discount factor.\n",
    "      q_network: (tf.keras.Sequential) Keras model for predicting the q_values\n",
    "      target_q_network: (tf.keras.Sequential) Keras model for predicting the targets\n",
    "          \n",
    "    Returns:\n",
    "      loss: (TensorFlow Tensor(shape=(0,), dtype=int32)) the Mean-Squared Error between\n",
    "            the y targets and the Q(s,a) values.\n",
    "    \"\"\"\n",
    "\n",
    "    # Unpack the mini-batch of experience tuples\n",
    "    states, actions, rewards, next_states, done_vals = experiences\n",
    "    \n",
    "    # Compute max Q^(s,a)\n",
    "    max_qsa = tf.reduce_max(target_q_network(next_states), axis=-1)\n",
    "    \n",
    "    # Set y = R if episode terminates, otherwise set y = R + γ max Q^(s,a).\n",
    "    ### START CODE HERE ### \n",
    "    y_targets = rewards + gamma * (1 - done_vals) * max_qsa\n",
    "    ### END CODE HERE ###\n",
    "    \n",
    "    # Get the q_values and reshape to match y_targets\n",
    "    q_values = q_network(states)\n",
    "    q_values = tf.gather_nd(q_values, tf.stack([tf.range(q_values.shape[0]),\n",
    "                                                tf.cast(actions, tf.int32)], axis=1))\n",
    "        \n",
    "    # Compute the loss\n",
    "    ### START CODE HERE ### \n",
    "    loss = MSE(y_targets, q_values) \n",
    "    ### END CODE HERE ### \n",
    "    \n",
    "    return loss"
   ]
  },
  {
   "cell_type": "code",
   "execution_count": 30,
   "metadata": {
    "deletable": false,
    "editable": false
   },
   "outputs": [
    {
     "name": "stdout",
     "output_type": "stream",
     "text": [
      "\u001b[92mAll tests passed!\n"
     ]
    }
   ],
   "source": [
    "# UNIT TEST    \n",
    "test_compute_loss(compute_loss)"
   ]
  },
  {
   "cell_type": "markdown",
   "metadata": {},
   "source": [
    "<details>\n",
    "  <summary><font size=\"3\" color=\"darkgreen\"><b>Click for hints</b></font></summary>\n",
    "    \n",
    "```python\n",
    "def compute_loss(experiences, gamma, q_network, target_q_network):\n",
    "    \"\"\" \n",
    "    Calculates the loss.\n",
    "    \n",
    "    Args:\n",
    "      experiences: (tuple) tuple of [\"state\", \"action\", \"reward\", \"next_state\", \"done\"] namedtuples\n",
    "      gamma: (float) The discount factor.\n",
    "      q_network: (tf.keras.Sequential) Keras model for predicting the q_values\n",
    "      target_q_network: (tf.keras.Sequential) Keras model for predicting the targets\n",
    "          \n",
    "    Returns:\n",
    "      loss: (TensorFlow Tensor(shape=(0,), dtype=int32)) the Mean-Squared Error between\n",
    "            the y targets and the Q(s,a) values.\n",
    "    \"\"\"\n",
    "\n",
    "    \n",
    "    # Unpack the mini-batch of experience tuples\n",
    "    states, actions, rewards, next_states, done_vals = experiences\n",
    "    \n",
    "    # Compute max Q^(s,a)\n",
    "    max_qsa = tf.reduce_max(target_q_network(next_states), axis=-1)\n",
    "    \n",
    "    # Set y = R if episode terminates, otherwise set y = R + γ max Q^(s,a).\n",
    "    y_targets = rewards + (gamma * max_qsa * (1 - done_vals))\n",
    "    \n",
    "    # Get the q_values\n",
    "    q_values = q_network(states)\n",
    "    q_values = tf.gather_nd(q_values, tf.stack([tf.range(q_values.shape[0]),\n",
    "                                                tf.cast(actions, tf.int32)], axis=1))\n",
    "    \n",
    "    # Calculate the loss\n",
    "    loss = MSE(y_targets, q_values)\n",
    "    \n",
    "    return loss\n",
    "\n",
    "``` \n",
    "    "
   ]
  },
  {
   "cell_type": "markdown",
   "metadata": {},
   "source": [
    "<a name=\"8\"></a>\n",
    "## 8 - Update the Network Weights\n",
    "\n",
    "We will use the `agent_learn` function below to implement lines ***12 -14*** of the algorithm outlined in [Fig 3](#7). The `agent_learn` function will update the weights of the $Q$ and target $\\hat Q$ networks using a custom training loop. Because we are using a custom training loop we need to retrieve the gradients via a `tf.GradientTape` instance, and then call `optimizer.apply_gradients()` to update the weights of our $Q$-Network. Note that we are also using the `@tf.function` decorator to increase performance. Without this decorator our training will take twice as long. If you would like to know more about how to increase performance with `@tf.function` take a look at the [TensorFlow documentation](https://www.tensorflow.org/guide/function).\n",
    "\n",
    "The last line of this function updates the weights of the target $\\hat Q$-Network using a [soft update](#6.1). If you want to know how this is implemented in code we encourage you to take a look at the `utils.update_target_network` function in the `utils` module."
   ]
  },
  {
   "cell_type": "code",
   "execution_count": 31,
   "metadata": {
    "deletable": false,
    "editable": false
   },
   "outputs": [],
   "source": [
    "@tf.function\n",
    "def agent_learn(experiences, gamma):\n",
    "    \"\"\"\n",
    "    Updates the weights of the Q networks.\n",
    "    \n",
    "    Args:\n",
    "      experiences: (tuple) tuple of [\"state\", \"action\", \"reward\", \"next_state\", \"done\"] namedtuples\n",
    "      gamma: (float) The discount factor.\n",
    "    \n",
    "    \"\"\"\n",
    "    \n",
    "    # Calculate the loss\n",
    "    with tf.GradientTape() as tape:\n",
    "        loss = compute_loss(experiences, gamma, q_network, target_q_network)\n",
    "\n",
    "    # Get the gradients of the loss with respect to the weights.\n",
    "    gradients = tape.gradient(loss, q_network.trainable_variables)\n",
    "    \n",
    "    # Update the weights of the q_network.\n",
    "    optimizer.apply_gradients(zip(gradients, q_network.trainable_variables))\n",
    "\n",
    "    # update the weights of target q_network\n",
    "    utils.update_target_network(q_network, target_q_network)"
   ]
  },
  {
   "cell_type": "markdown",
   "metadata": {},
   "source": [
    "<a name=\"9\"></a>\n",
    "## 9 - Train the Agent\n",
    "\n",
    "We are now ready to train our agent to solve the Lunar Lander environment. In the cell below we will implement the algorithm in [Fig 3](#7) line by line (please note that we have included the same algorithm below for easy reference. This will prevent you from scrolling up and down the notebook):\n",
    "\n",
    "* **Line 1**: We initialize the `memory_buffer` with a capacity of $N =$ `MEMORY_SIZE`. Notice that we are using a `deque` as the data structure for our `memory_buffer`.\n",
    "\n",
    "\n",
    "* **Line 2**: We skip this line since we already initialized the `q_network` in [Exercise 1](#ex01).\n",
    "\n",
    "\n",
    "* **Line 3**: We initialize the `target_q_network` by setting its weights to be equal to those of the `q_network`.\n",
    "\n",
    "\n",
    "* **Line 4**: We start the outer loop. Notice that we have set $M =$ `num_episodes = 2000`. This number is reasonable because the agent should be able to solve the Lunar Lander environment in less than `2000` episodes using this notebook's default parameters.\n",
    "\n",
    "\n",
    "* **Line 5**: We use the `.reset()` method to reset the environment to the initial state and get the initial state.\n",
    "\n",
    "\n",
    "* **Line 6**: We start the inner loop. Notice that we have set $T =$ `max_num_timesteps = 1000`. This means that the episode will automatically terminate if the episode hasn't terminated after `1000` time steps.\n",
    "\n",
    "\n",
    "* **Line 7**: The agent observes the current `state` and chooses an `action` using an $\\epsilon$-greedy policy. Our agent starts out using a value of $\\epsilon =$ `epsilon = 1` which yields an $\\epsilon$-greedy policy that is equivalent to the equiprobable random policy. This means that at the beginning of our training, the agent is just going to take random actions regardless of the observed `state`. As training progresses we will decrease the value of $\\epsilon$ slowly towards a minimum value using a given $\\epsilon$-decay rate. We want this minimum value to be close to zero because a value of $\\epsilon = 0$ will yield an $\\epsilon$-greedy policy that is equivalent to the greedy policy. This means that towards the end of training, the agent will lean towards selecting the `action` that it believes (based on its past experiences) will maximize $Q(s,a)$. We will set the minimum $\\epsilon$ value to be `0.01` and not exactly 0 because we always want to keep a little bit of exploration during training. If you want to know how this is implemented in code we encourage you to take a look at the `utils.get_action` function in the `utils` module.\n",
    "\n",
    "\n",
    "* **Line 8**: We use the `.step()` method to take the given `action` in the environment and get the `reward` and the `next_state`. \n",
    "\n",
    "\n",
    "* **Line 9**: We store the `experience(state, action, reward, next_state, done)` tuple in our `memory_buffer`. Notice that we also store the `done` variable so that we can keep track of when an episode terminates. This allowed us to set the $y$ targets in [Exercise 2](#ex02).\n",
    "\n",
    "\n",
    "* **Line 10**: We check if the conditions are met to perform a learning update. We do this by using our custom `utils.check_update_conditions` function. This function checks if $C =$ `NUM_STEPS_FOR_UPDATE = 4` time steps have occured and if our `memory_buffer` has enough experience tuples to fill a mini-batch. For example, if the mini-batch size is `64`, then our `memory_buffer` should have more than `64` experience tuples in order to pass the latter condition. If the conditions are met, then the `utils.check_update_conditions` function will return a value of `True`, otherwise it will return a value of `False`.\n",
    "\n",
    "\n",
    "* **Lines 11 - 14**: If the `update` variable is `True` then we perform a learning update. The learning update consists of sampling a random mini-batch of experience tuples from our `memory_buffer`, setting the $y$ targets, performing gradient descent, and updating the weights of the networks. We will use the `agent_learn` function we defined in [Section 8](#8) to perform the latter 3.\n",
    "\n",
    "\n",
    "* **Line 15**: At the end of each iteration of the inner loop we set `next_state` as our new `state` so that the loop can start again from this new state. In addition, we check if the episode has reached a terminal state (i.e we check if `done = True`). If a terminal state has been reached, then we break out of the inner loop.\n",
    "\n",
    "\n",
    "* **Line 16**: At the end of each iteration of the outer loop we update the value of $\\epsilon$, and check if the environment has been solved. We consider that the environment has been solved if the agent receives an average of `200` points in the last `100` episodes. If the environment has not been solved we continue the outer loop and start a new episode.\n",
    "\n",
    "Finally, we wanted to note that we have included some extra variables to keep track of the total number of points the agent received in each episode. This will help us determine if the agent has solved the environment and it will also allow us to see how our agent performed during training. We also use the `time` module to measure how long the training takes. \n",
    "\n",
    "<br>\n",
    "<br>\n",
    "<figure>\n",
    "  <img src = \"images/deep_q_algorithm.png\" width = 90% style = \"border: thin silver solid; padding: 0px\">\n",
    "      <figcaption style = \"text-align: center; font-style: italic\">Fig 4. Deep Q-Learning with Experience Replay.</figcaption>\n",
    "</figure>\n",
    "<br>\n",
    "\n",
    "**Note:** With this notebook's default parameters, the following cell takes between 10 to 15 minutes to run. "
   ]
  },
  {
   "cell_type": "code",
   "execution_count": 32,
   "metadata": {
    "deletable": false,
    "editable": false
   },
   "outputs": [
    {
     "name": "stdout",
     "output_type": "stream",
     "text": [
      "Episode 100 | Total point average of the last 100 episodes: -136.39\n",
      "Episode 200 | Total point average of the last 100 episodes: -100.44\n",
      "Episode 300 | Total point average of the last 100 episodes: -94.111\n",
      "Episode 400 | Total point average of the last 100 episodes: 17.816\n",
      "Episode 500 | Total point average of the last 100 episodes: 140.63\n",
      "Episode 600 | Total point average of the last 100 episodes: 154.82\n",
      "Episode 700 | Total point average of the last 100 episodes: 164.41\n",
      "Episode 770 | Total point average of the last 100 episodes: 200.29\n",
      "\n",
      "Environment solved in 770 episodes!\n",
      "\n",
      "Total Runtime: 1019.28 s (16.99 min)\n"
     ]
    }
   ],
   "source": [
    "start = time.time()\n",
    "\n",
    "num_episodes = 2000\n",
    "max_num_timesteps = 1000\n",
    "\n",
    "total_point_history = []\n",
    "\n",
    "num_p_av = 100    # number of total points to use for averaging\n",
    "epsilon = 1.0     # initial ε value for ε-greedy policy\n",
    "\n",
    "# Create a memory buffer D with capacity N\n",
    "memory_buffer = deque(maxlen=MEMORY_SIZE)\n",
    "\n",
    "# Set the target network weights equal to the Q-Network weights\n",
    "target_q_network.set_weights(q_network.get_weights())\n",
    "\n",
    "for i in range(num_episodes):\n",
    "    \n",
    "    # Reset the environment to the initial state and get the initial state\n",
    "    state = env.reset()\n",
    "    total_points = 0\n",
    "    \n",
    "    for t in range(max_num_timesteps):\n",
    "        \n",
    "        # From the current state S choose an action A using an ε-greedy policy\n",
    "        state_qn = np.expand_dims(state, axis=0)  # state needs to be the right shape for the q_network\n",
    "        q_values = q_network(state_qn)\n",
    "        action = utils.get_action(q_values, epsilon)\n",
    "        \n",
    "        # Take action A and receive reward R and the next state S'\n",
    "        next_state, reward, done, _ = env.step(action)\n",
    "        \n",
    "        # Store experience tuple (S,A,R,S') in the memory buffer.\n",
    "        # We store the done variable as well for convenience.\n",
    "        memory_buffer.append(experience(state, action, reward, next_state, done))\n",
    "        \n",
    "        # Only update the network every NUM_STEPS_FOR_UPDATE time steps.\n",
    "        update = utils.check_update_conditions(t, NUM_STEPS_FOR_UPDATE, memory_buffer)\n",
    "        \n",
    "        if update:\n",
    "            # Sample random mini-batch of experience tuples (S,A,R,S') from D\n",
    "            experiences = utils.get_experiences(memory_buffer)\n",
    "            \n",
    "            # Set the y targets, perform a gradient descent step,\n",
    "            # and update the network weights.\n",
    "            agent_learn(experiences, GAMMA)\n",
    "        \n",
    "        state = next_state.copy()\n",
    "        total_points += reward\n",
    "        \n",
    "        if done:\n",
    "            break\n",
    "            \n",
    "    total_point_history.append(total_points)\n",
    "    av_latest_points = np.mean(total_point_history[-num_p_av:])\n",
    "    \n",
    "    # Update the ε value\n",
    "    epsilon = utils.get_new_eps(epsilon)\n",
    "\n",
    "    print(f\"\\rEpisode {i+1} | Total point average of the last {num_p_av} episodes: {av_latest_points:.2f}\", end=\"\")\n",
    "\n",
    "    if (i+1) % num_p_av == 0:\n",
    "        print(f\"\\rEpisode {i+1} | Total point average of the last {num_p_av} episodes: {av_latest_points:.2f}\")\n",
    "\n",
    "    # We will consider that the environment is solved if we get an\n",
    "    # average of 200 points in the last 100 episodes.\n",
    "    if av_latest_points >= 200.0:\n",
    "        print(f\"\\n\\nEnvironment solved in {i+1} episodes!\")\n",
    "        q_network.save('lunar_lander_model.h5')\n",
    "        break\n",
    "        \n",
    "tot_time = time.time() - start\n",
    "\n",
    "print(f\"\\nTotal Runtime: {tot_time:.2f} s ({(tot_time/60):.2f} min)\")"
   ]
  },
  {
   "cell_type": "markdown",
   "metadata": {},
   "source": [
    "We can plot the total point history along with the moving average to see how our agent improved during training. If you want to know about the different plotting options available in the `utils.plot_history` function we encourage you to take a look at the `utils` module."
   ]
  },
  {
   "cell_type": "code",
   "execution_count": 33,
   "metadata": {
    "deletable": false,
    "editable": false,
    "id": "E_EUXxurfe8m",
    "scrolled": false
   },
   "outputs": [
    {
     "data": {
      "image/png": "[encoded data removed]",
      "text/plain": [
       "<Figure size 720x504 with 1 Axes>"
      ]
     },
     "metadata": {},
     "output_type": "display_data"
    }
   ],
   "source": [
    "# Plot the total point history along with the moving average\n",
    "utils.plot_history(total_point_history)"
   ]
  },
  {
   "cell_type": "markdown",
   "metadata": {
    "id": "c_xwgaX5MnYt"
   },
   "source": [
    "<a name=\"10\"></a>\n",
    "## 10 - See the Trained Agent In Action\n",
    "\n",
    "Now that we have trained our agent, we can see it in action. We will use the `utils.create_video` function to create a video of our agent interacting with the environment using the trained $Q$-Network. The `utils.create_video` function uses the `imageio` library to create the video. This library produces some warnings that can be distracting, so, to suppress these warnings we run the code below."
   ]
  },
  {
   "cell_type": "code",
   "execution_count": 34,
   "metadata": {
    "deletable": false,
    "editable": false
   },
   "outputs": [],
   "source": [
    "# Suppress warnings from imageio\n",
    "import logging\n",
    "logging.getLogger().setLevel(logging.ERROR)"
   ]
  },
  {
   "cell_type": "markdown",
   "metadata": {},
   "source": [
    "In the cell below we create a video of our agent interacting with the Lunar Lander environment using the trained `q_network`. The video is saved to the `videos` folder with the given `filename`. We use the `utils.embed_mp4` function to embed the video in the Jupyter Notebook so that we can see it here directly without having to download it.\n",
    "\n",
    "We should note that since the lunar lander starts with a random initial force applied to its center of mass, every time you run the cell below you will see a different video. If the agent was trained properly, it should be able to land the lunar lander in the landing pad every time, regardless of the initial force applied to its center of mass."
   ]
  },
  {
   "cell_type": "code",
   "execution_count": 35,
   "metadata": {
    "deletable": false,
    "editable": false,
    "id": "3Ttb_zLeJKiG"
   },
   "outputs": [
    {
     "data": {
      "text/html": [
       "\n",
       "    <video width=\"840\" height=\"480\" controls>\n",
       "    <source src=\"data:video/mp4;base64,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\" type=\"video/mp4\">\n",
       "    Your browser does not support the video tag.\n",
       "    </video>"
      ],
      "text/plain": [
       "<IPython.core.display.HTML object>"
      ]
     },
     "execution_count": 35,
     "metadata": {},
     "output_type": "execute_result"
    }
   ],
   "source": [
    "filename = \"./videos/lunar_lander.mp4\"\n",
    "\n",
    "utils.create_video(filename, env, q_network)\n",
    "utils.embed_mp4(filename)"
   ]
  },
  {
   "cell_type": "markdown",
   "metadata": {},
   "source": [
    "<a name=\"11\"></a>\n",
    "## 11 - Congratulations!\n",
    "\n",
    "You have successfully used Deep Q-Learning with Experience Replay to train an agent to land a lunar lander safely on a landing pad on the surface of the moon. Congratulations!"
   ]
  },
  {
   "cell_type": "markdown",
   "metadata": {},
   "source": [
    "<a name=\"12\"></a>\n",
    "## 12 - References\n",
    "\n",
    "If you would like to learn more about Deep Q-Learning, we recommend you check out the following papers.\n",
    "\n",
    "\n",
    "* Mnih, V., Kavukcuoglu, K., Silver, D. et al. Human-level control through deep reinforcement learning. Nature 518, 529–533 (2015).\n",
    "\n",
    "\n",
    "* Lillicrap, T. P., Hunt, J. J., Pritzel, A., et al. Continuous Control with Deep Reinforcement Learning. ICLR (2016).\n",
    "\n",
    "\n",
    "* Mnih, V., Kavukcuoglu, K., Silver, D. et al. Playing Atari with Deep Reinforcement Learning. arXiv e-prints.  arXiv:1312.5602 (2013)."
   ]
  },
  {
   "cell_type": "markdown",
   "metadata": {},
   "source": [
    "<details>\n",
    "  <summary><font size=\"2\" color=\"darkgreen\"><b>Please click here if you want to experiment with any of the non-graded code.</b></font></summary>\n",
    "    <p><i><b>Important Note: Please only do this when you've already passed the assignment to avoid problems with the autograder.</b></i>\n",
    "    <ol>\n",
    "        <li> On the notebook’s menu, click “View” > “Cell Toolbar” > “Edit Metadata”</li>\n",
    "        <li> Hit the “Edit Metadata” button next to the code cell which you want to lock/unlock</li>\n",
    "        <li> Set the attribute value for “editable” to:\n",
    "            <ul>\n",
    "                <li> “true” if you want to unlock it </li>\n",
    "                <li> “false” if you want to lock it </li>\n",
    "            </ul>\n",
    "        </li>\n",
    "        <li> On the notebook’s menu, click “View” > “Cell Toolbar” > “None” </li>\n",
    "    </ol>\n",
    "    <p> Here's a short demo of how to do the steps above: \n",
    "        <br>\n",
    "        <img src=\"https://drive.google.com/uc?export=view&id=14Xy_Mb17CZVgzVAgq7NCjMVBvSae3xO1\" align=\"center\" alt=\"unlock_cells.gif\">\n",
    "</details>"
   ]
  }
 ],
 "metadata": {
  "accelerator": "GPU",
  "colab": {
   "collapsed_sections": [],
   "name": "TensorFlow - Lunar Lander.ipynb",
   "provenance": []
  },
  "kernelspec": {
   "display_name": "Python 3",
   "language": "python",
   "name": "python3"
  },
  "language_info": {
   "codemirror_mode": {
    "name": "ipython",
    "version": 3
   },
   "file_extension": ".py",
   "mimetype": "text/x-python",
   "name": "python",
   "nbconvert_exporter": "python",
   "pygments_lexer": "ipython3",
   "version": "3.7.6"
  }
 },
 "nbformat": 4,
 "nbformat_minor": 1
}
